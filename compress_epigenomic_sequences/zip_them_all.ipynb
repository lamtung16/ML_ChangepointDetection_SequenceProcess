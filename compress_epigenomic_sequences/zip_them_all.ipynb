{
 "cells": [
  {
   "cell_type": "code",
   "execution_count": 1,
   "metadata": {},
   "outputs": [],
   "source": [
    "import os\n",
    "import lzma\n",
    "import shutil"
   ]
  },
  {
   "cell_type": "code",
   "execution_count": 2,
   "metadata": {},
   "outputs": [],
   "source": [
    "directory = 'C:/Users/tln229/Downloads/ML_ChangepointDetection_SequenceProcess/compress_epigenomic_sequences'"
   ]
  },
  {
   "cell_type": "code",
   "execution_count": null,
   "metadata": {},
   "outputs": [],
   "source": [
    "def compress_csv_to_xz(directory):\n",
    "    # Walk through the directory and its subdirectories\n",
    "    for root, dirs, files in os.walk(directory):\n",
    "        for file in files:\n",
    "            if file.endswith('.csv'):\n",
    "                csv_file_path = os.path.join(root, file)\n",
    "                xz_file_path = csv_file_path + '.xz'\n",
    "\n",
    "                # Open the CSV file in binary mode and compress it\n",
    "                with open(csv_file_path, 'rb') as csv_file:\n",
    "                    with lzma.open(xz_file_path, 'wb') as xz_file:\n",
    "                        shutil.copyfileobj(csv_file, xz_file)\n",
    "\n",
    "                print(f\"Compressed {csv_file_path} -> {xz_file_path}\")\n",
    "\n",
    "compress_csv_to_xz(directory)"
   ]
  },
  {
   "cell_type": "code",
   "execution_count": null,
   "metadata": {},
   "outputs": [],
   "source": [
    "def delete_all_csv(directory):\n",
    "    # Walk through the directory and its subdirectories\n",
    "    for root, dirs, files in os.walk(directory):\n",
    "        for file in files:\n",
    "            if file.endswith('.csv'):\n",
    "                # Construct full file path\n",
    "                file_path = os.path.join(root, file)\n",
    "                try:\n",
    "                    # Delete the file\n",
    "                    os.remove(file_path)\n",
    "                    print(f\"Deleted: {file_path}\")\n",
    "                except Exception as e:\n",
    "                    print(f\"Error deleting {file_path}: {e}\")\n",
    "\n",
    "delete_all_csv(directory)"
   ]
  }
 ],
 "metadata": {
  "kernelspec": {
   "display_name": "Python 3",
   "language": "python",
   "name": "python3"
  },
  "language_info": {
   "codemirror_mode": {
    "name": "ipython",
    "version": 3
   },
   "file_extension": ".py",
   "mimetype": "text/x-python",
   "name": "python",
   "nbconvert_exporter": "python",
   "pygments_lexer": "ipython3",
   "version": "3.11.9"
  }
 },
 "nbformat": 4,
 "nbformat_minor": 2
}

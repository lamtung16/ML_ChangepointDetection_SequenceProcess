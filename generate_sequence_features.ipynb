{
 "cells": [
  {
   "cell_type": "code",
   "execution_count": 6,
   "metadata": {},
   "outputs": [],
   "source": [
    "import pandas as pd\n",
    "import numpy as np\n",
    "import lzma\n",
    "import gzip"
   ]
  },
  {
   "cell_type": "code",
   "execution_count": 7,
   "metadata": {},
   "outputs": [],
   "source": [
    "dataset = 'cancer'"
   ]
  },
  {
   "cell_type": "code",
   "execution_count": 8,
   "metadata": {},
   "outputs": [],
   "source": [
    "file_path = 'sequence_data/' + dataset + '/profiles.csv.gz'\n",
    "with gzip.open(file_path, 'rt') as file:\n",
    "    signal_df = pd.read_csv(file)\n",
    "\n",
    "seqs = tuple(signal_df.groupby('sequenceID'))"
   ]
  },
  {
   "cell_type": "code",
   "execution_count": 9,
   "metadata": {},
   "outputs": [],
   "source": [
    "def compute_stats(arr):\n",
    "    \"\"\"Compute descriptive statistics for a given array.\"\"\"\n",
    "    std_deviation = np.std(arr)\n",
    "    mean = np.mean(arr)\n",
    "    median = np.median(arr)\n",
    "    variance = np.var(arr)\n",
    "    min_value = np.min(arr)\n",
    "    max_value = np.max(arr)\n",
    "    range_value = max_value - min_value\n",
    "    iqr = np.percentile(arr, 75) - np.percentile(arr, 25)\n",
    "    abs_skewness = abs(pd.Series(arr).skew())\n",
    "    kurtosis = pd.Series(arr).kurt()\n",
    "    count = len(arr)\n",
    "    unique_count = len(np.unique(arr))\n",
    "    percentile_25 = np.percentile(arr, 25)\n",
    "    percentile_50 = np.percentile(arr, 50)  # equivalent to median\n",
    "    percentile_75 = np.percentile(arr, 75)\n",
    "\n",
    "    # Autocorrelation (lag-1)\n",
    "    autocorr = np.corrcoef(arr[:-1], arr[1:])[0, 1] if len(arr) > 1 else np.nan\n",
    "\n",
    "    return np.array([\n",
    "        std_deviation, mean, median, variance, range_value, iqr,\n",
    "        min_value, max_value, abs_skewness, kurtosis, count, unique_count,\n",
    "        percentile_25, percentile_50, percentile_75, autocorr\n",
    "    ])\n",
    "\n",
    "def apply_transformations(arr):\n",
    "    \"\"\"Apply transformations (abs, log, loglog, square, sqrt) to the given array.\"\"\"\n",
    "    arr_abs = np.abs(arr)\n",
    "    arr_log = np.log(np.where(arr > 0, arr, 1e-10))  # Avoid log(0) errors\n",
    "    arr_loglog = np.log(np.where(arr_log > 0, arr_log, 1e-10))  # Log of log\n",
    "    arr_square = np.square(arr)\n",
    "    arr_sqrt = np.sqrt(np.where(arr >= 0, arr, 0))  # Square root of non-negative values\n",
    "    return np.concatenate([arr_abs, arr_log, arr_loglog, arr_square, arr_sqrt])\n",
    "\n",
    "def get_feature(sequence):\n",
    "    \"\"\"Generate features based on the logratio, diff, and residual of the sequence.\"\"\"\n",
    "    logratio = sequence['logratio'].to_numpy()\n",
    "    \n",
    "    # Create diff and residual arrays\n",
    "    diff = np.abs(logratio[1:] - logratio[:-1])\n",
    "    residual = logratio - np.mean(logratio)\n",
    "\n",
    "    # Compute descriptive statistics for logratio, diff, and residual\n",
    "    logratio_stats = compute_stats(logratio)\n",
    "    diff_stats = compute_stats(diff)\n",
    "    residual_stats = compute_stats(residual)\n",
    "\n",
    "    # Combine all statistics\n",
    "    combined_stats = np.concatenate([logratio_stats, diff_stats, residual_stats])\n",
    "\n",
    "    # Apply transformations to the combined statistics\n",
    "    transformed_stats = np.nan_to_num(apply_transformations(combined_stats))\n",
    "\n",
    "    # Combine original stats and transformed stats\n",
    "    final_stats = np.concatenate([combined_stats, transformed_stats])\n",
    "\n",
    "    return final_stats\n",
    "\n",
    "def generate_feature_dataframe(seqs, dataset):\n",
    "    \"\"\"Create a DataFrame with features for each sequence.\"\"\"\n",
    "    # Initialize an empty list to hold rows\n",
    "    array_rows = []\n",
    "    for seq_id, sequence in seqs:\n",
    "        # Append the sequence ID and its corresponding features\n",
    "        array_rows.append(np.append(seq_id, get_feature(sequence)))\n",
    "\n",
    "    # Define the base feature names\n",
    "    base_features = [\n",
    "        \"std_deviation\", \"mean\", \"median\", \"variance\", \"range_value\", \"iqr\",\n",
    "        \"min_value\", \"max_value\", \"abs_skewness\", \"kurtosis\", \"count\", \"unique_count\",\n",
    "        \"percentile_25\", \"percentile_50\", \"percentile_75\", \"autocorr\"\n",
    "    ]\n",
    "\n",
    "    # Define categories and transformations\n",
    "    categories = [\"logratio\", \"diff\", \"residual\"]\n",
    "    transformations = [\"abs\", \"log\", \"loglog\", \"square\", \"sqrt\"]\n",
    "\n",
    "    # Construct column names for the DataFrame\n",
    "    column_names = [\"seqID\"]  # First column for sequence ID\n",
    "    for category in categories:\n",
    "        column_names += [f\"{category}_{feature}\" for feature in base_features]\n",
    "    for category in categories:\n",
    "        column_names += [f\"{category}_{transform}_{feature}\" for transform in transformations for feature in base_features]\n",
    "\n",
    "    # Create the DataFrame\n",
    "    df = pd.DataFrame(array_rows, columns=column_names)\n",
    "\n",
    "    # Save to CSV\n",
    "    df.to_csv(f'feature_target_data/{dataset}/features.csv', index=False)"
   ]
  },
  {
   "cell_type": "code",
   "execution_count": 10,
   "metadata": {},
   "outputs": [],
   "source": [
    "generate_feature_dataframe(seqs, 'cancer')"
   ]
  }
 ],
 "metadata": {
  "kernelspec": {
   "display_name": "Python 3",
   "language": "python",
   "name": "python3"
  },
  "language_info": {
   "codemirror_mode": {
    "name": "ipython",
    "version": 3
   },
   "file_extension": ".py",
   "mimetype": "text/x-python",
   "name": "python",
   "nbconvert_exporter": "python",
   "pygments_lexer": "ipython3",
   "version": "3.11.9"
  }
 },
 "nbformat": 4,
 "nbformat_minor": 2
}

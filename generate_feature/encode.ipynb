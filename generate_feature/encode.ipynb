{
 "cells": [
  {
   "cell_type": "code",
   "execution_count": 1,
   "metadata": {},
   "outputs": [],
   "source": [
    "import pandas as pd\n",
    "import lzma\n",
    "from torch.nn.utils.rnn import pad_sequence\n",
    "from torch.utils.data import DataLoader, Dataset\n",
    "import torch\n",
    "import torch.nn as nn\n",
    "import torch.optim as optim"
   ]
  },
  {
   "cell_type": "code",
   "execution_count": 2,
   "metadata": {},
   "outputs": [],
   "source": [
    "file_path = '../sequence_data/detailed/profiles.csv.xz'\n",
    "with lzma.open(file_path, 'rt') as file:\n",
    "    signal_df = pd.read_csv(file)\n",
    "\n",
    "seqs = tuple(signal_df.groupby('sequenceID'))[0:1]"
   ]
  },
  {
   "cell_type": "code",
   "execution_count": 3,
   "metadata": {},
   "outputs": [],
   "source": [
    "sequences = [torch.tensor(seq[1]['signal'].to_numpy(), dtype=torch.float32) for seq in seqs]"
   ]
  },
  {
   "cell_type": "code",
   "execution_count": 4,
   "metadata": {},
   "outputs": [],
   "source": [
    "# Create a Dataset class\n",
    "class SequenceDataset(Dataset):\n",
    "    def __init__(self, sequences):\n",
    "        self.sequences = sequences\n",
    "\n",
    "    def __len__(self):\n",
    "        return len(self.sequences)\n",
    "\n",
    "    def __getitem__(self, idx):\n",
    "        return self.sequences[idx]\n",
    "\n",
    "# Create a DataLoader\n",
    "dataset = SequenceDataset(sequences)\n",
    "data_loader = DataLoader(dataset, batch_size=2, collate_fn=lambda x: pad_sequence(x, batch_first=True))"
   ]
  },
  {
   "cell_type": "code",
   "execution_count": 5,
   "metadata": {},
   "outputs": [],
   "source": [
    "# Define Encoder\n",
    "class Encoder(nn.Module):\n",
    "    def __init__(self, input_size, hidden_size):\n",
    "        super(Encoder, self).__init__()\n",
    "        self.rnn = nn.LSTM(input_size, hidden_size, batch_first=True)\n",
    "\n",
    "    def forward(self, x):\n",
    "        _, (h_n, _) = self.rnn(x)\n",
    "        return h_n[-1]  # Take the last hidden state\n",
    "\n",
    "# Define Decoder\n",
    "class Decoder(nn.Module):\n",
    "    def __init__(self, hidden_size, output_size):\n",
    "        super(Decoder, self).__init__()\n",
    "        self.rnn = nn.LSTM(hidden_size, hidden_size, batch_first=True)\n",
    "        self.fc = nn.Linear(hidden_size, output_size)\n",
    "\n",
    "    def forward(self, x, seq_length):\n",
    "        # Repeat the context vector for each time step in the output\n",
    "        x = x.unsqueeze(1).repeat(1, seq_length, 1)  # Shape: (batch_size, seq_length, hidden_size)\n",
    "        output, _ = self.rnn(x)\n",
    "        return self.fc(output)\n",
    "\n",
    "# Define the full model\n",
    "class Seq2Seq(nn.Module):\n",
    "    def __init__(self, input_size, hidden_size, output_size):\n",
    "        super(Seq2Seq, self).__init__()\n",
    "        self.encoder = Encoder(input_size, hidden_size)\n",
    "        self.decoder = Decoder(hidden_size, output_size)\n",
    "\n",
    "    def forward(self, x):\n",
    "        seq_length = x.size(1)  # Get the length of the input sequence\n",
    "        hidden = self.encoder(x)\n",
    "        output = self.decoder(hidden, seq_length)\n",
    "        return output"
   ]
  },
  {
   "cell_type": "code",
   "execution_count": 6,
   "metadata": {},
   "outputs": [
    {
     "name": "stdout",
     "output_type": "stream",
     "text": [
      "Epoch [1/10000], Loss: 0.00949133 - Saving model...\n",
      "Epoch [16/10000], Loss: 0.00947811 - Saving model...\n",
      "Early stopping at epoch 36 with loss: 0.00947811\n"
     ]
    }
   ],
   "source": [
    "# Hyperparameters\n",
    "input_size = 1   # Since your signal is one-dimensional\n",
    "hidden_size = 2048  # The size of the vector for each sequence\n",
    "output_size = 1  # Output size should match the input size\n",
    "\n",
    "# Initialize the model, loss function, and optimizer\n",
    "model = Seq2Seq(input_size, hidden_size, output_size)\n",
    "criterion = nn.MSELoss()\n",
    "optimizer = optim.Adam(model.parameters())\n",
    "\n",
    "# Early stopping parameters\n",
    "patience = 20  # Number of epochs to wait for improvement\n",
    "best_loss = float('inf')\n",
    "patience_counter = 0\n",
    "\n",
    "# Training loop\n",
    "num_epochs = 10000\n",
    "for epoch in range(num_epochs):\n",
    "    for batch in data_loader:\n",
    "        batch = batch.unsqueeze(-1)  # Add input dimension\n",
    "        optimizer.zero_grad()\n",
    "        output = model(batch)\n",
    "        loss = criterion(output, batch)  # Compute loss\n",
    "        loss.backward()\n",
    "        optimizer.step()\n",
    "    \n",
    "    # Check for early stopping\n",
    "    if loss.item() < best_loss:\n",
    "        best_loss = loss.item()\n",
    "        patience_counter = 0  # Reset patience counter\n",
    "        print(f'Epoch [{epoch + 1}/{num_epochs}], Loss: {loss.item():.8f} - Saving model...')\n",
    "        # You can save the model here using `torch.save(model.state_dict(), 'model.pth')`\n",
    "    else:\n",
    "        patience_counter += 1\n",
    "    \n",
    "    if patience_counter >= patience:\n",
    "        print(f'Early stopping at epoch {epoch + 1} with loss: {best_loss:.8f}')\n",
    "        break"
   ]
  },
  {
   "cell_type": "code",
   "execution_count": 7,
   "metadata": {},
   "outputs": [
    {
     "name": "stdout",
     "output_type": "stream",
     "text": [
      "Input sequence:  [-0.02473668 -0.06642736  0.09491165  0.0071955   0.07587487]\n",
      "Output sequence: [-0.01005963  0.01573802  0.01126526  0.0032569   0.00902159]\n"
     ]
    }
   ],
   "source": [
    "# Testing the trained model\n",
    "def test_model(model, test_sequence):\n",
    "    model.eval()  # Set the model to evaluation mode\n",
    "    with torch.no_grad():  # Disable gradient computation\n",
    "        # Prepare the input sequence (add batch dimension)\n",
    "        input_seq = test_sequence.unsqueeze(0).unsqueeze(-1)  # Shape: (1, seq_length, 1)\n",
    "        # Get the output from the model\n",
    "        output_seq = model(input_seq)\n",
    "    return output_seq\n",
    "\n",
    "# Example test sequence\n",
    "test_sequence = sequences[0]\n",
    "\n",
    "# Run the test\n",
    "output_sequence = test_model(model, test_sequence)\n",
    "\n",
    "# Print results\n",
    "print(\"Input sequence: \", test_sequence.numpy()[:5])\n",
    "print(\"Output sequence:\", output_sequence.squeeze(0).numpy()[:,0][:5])"
   ]
  }
 ],
 "metadata": {
  "kernelspec": {
   "display_name": "Python 3",
   "language": "python",
   "name": "python3"
  },
  "language_info": {
   "codemirror_mode": {
    "name": "ipython",
    "version": 3
   },
   "file_extension": ".py",
   "mimetype": "text/x-python",
   "name": "python",
   "nbconvert_exporter": "python",
   "pygments_lexer": "ipython3",
   "version": "3.10.11"
  }
 },
 "nbformat": 4,
 "nbformat_minor": 2
}

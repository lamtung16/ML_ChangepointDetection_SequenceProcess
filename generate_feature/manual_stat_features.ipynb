{
 "cells": [
  {
   "cell_type": "code",
   "execution_count": 1,
   "metadata": {},
   "outputs": [],
   "source": [
    "import pandas as pd\n",
    "import numpy as np\n",
    "import lzma"
   ]
  },
  {
   "cell_type": "code",
   "execution_count": 2,
   "metadata": {},
   "outputs": [],
   "source": [
    "dataset = 'detailed'"
   ]
  },
  {
   "cell_type": "code",
   "execution_count": 3,
   "metadata": {},
   "outputs": [],
   "source": [
    "file_path = '../sequence_data/' + dataset + '/profiles.csv.xz'\n",
    "with lzma.open(file_path, 'rt') as file:\n",
    "    signal_df = pd.read_csv(file)\n",
    "\n",
    "seqs = tuple(signal_df.groupby('sequenceID'))"
   ]
  },
  {
   "cell_type": "code",
   "execution_count": 4,
   "metadata": {},
   "outputs": [],
   "source": [
    "def get_feature(sequence):\n",
    "    logratio = sequence['signal'].to_numpy()\n",
    "\n",
    "    # Sequence difference\n",
    "    diff = np.abs(logratio[1:] - logratio[:-1])\n",
    "    sum_diff = np.sum(diff)\n",
    "    mean_diff = np.mean(diff)\n",
    "    max_diff = np.max(diff)\n",
    "    min_diff = np.min(diff)\n",
    "\n",
    "    # Descriptive statistics\n",
    "    std_deviation = np.std(logratio)\n",
    "    mean = np.mean(logratio)\n",
    "    median = np.median(logratio)\n",
    "    variance = np.var(logratio)\n",
    "\n",
    "    # Other statistics\n",
    "    min_value = np.min(logratio)\n",
    "    max_value = np.max(logratio)\n",
    "    range_value = max_value - min_value\n",
    "    iqr = np.percentile(logratio, 75) - np.percentile(logratio, 25)  # Interquartile range\n",
    "\n",
    "    # Skewness and Kurtosis\n",
    "    abs_skewness = abs(pd.Series(logratio).skew())\n",
    "    kurtosis = pd.Series(logratio).kurt()\n",
    "\n",
    "    # Count and unique values\n",
    "    count = len(logratio)\n",
    "    unique_count = len(np.unique(logratio))\n",
    "\n",
    "    # Percentiles\n",
    "    percentile_25 = np.percentile(logratio, 25)\n",
    "    percentile_50 = np.percentile(logratio, 50)  # equivalent to median\n",
    "    percentile_75 = np.percentile(logratio, 75)\n",
    "\n",
    "    # Autocorrelation (lag-1)\n",
    "    if len(logratio) > 1:\n",
    "        autocorr = np.corrcoef(logratio[:-1], logratio[1:])[0, 1]\n",
    "    else:\n",
    "        autocorr = np.nan\n",
    "\n",
    "    return np.array([\n",
    "        std_deviation, mean, median, variance, range_value, iqr,\n",
    "        min_value, max_value, abs_skewness, kurtosis, count, unique_count,\n",
    "        sum_diff, mean_diff, max_diff, min_diff,\n",
    "        percentile_25, percentile_50, percentile_75, autocorr\n",
    "    ])"
   ]
  },
  {
   "cell_type": "code",
   "execution_count": 5,
   "metadata": {},
   "outputs": [],
   "source": [
    "# Create a DataFrame to store the features for each sequence\n",
    "array_rows = []\n",
    "for i in range(len(seqs)):\n",
    "    sequence = seqs[i][1]\n",
    "    array_rows.append(np.append(seqs[i][0], get_feature(sequence)))\n",
    "\n",
    "# Define the column names based on the features calculated\n",
    "column_names = [\n",
    "    \"seqID\", \"std_deviation\", \"mean\", \"median\", \"variance\", \"range_value\", \"iqr\",\n",
    "    \"min_value\", \"max_value\", \"abs_skewness\", \"kurtosis\", \"count\", \"unique_count\",\n",
    "    \"sum_diff\", \"mean_diff\", \"max_diff\", \"min_diff\",\n",
    "    \"percentile_25\", \"percentile_50\", \"percentile_75\", \"autocorr\"\n",
    "]\n",
    "\n",
    "# Create the DataFrame\n",
    "df = pd.DataFrame(array_rows, columns=column_names)"
   ]
  },
  {
   "cell_type": "code",
   "execution_count": 6,
   "metadata": {},
   "outputs": [],
   "source": [
    "df.to_csv('feature_target_data/' + dataset + '/features.csv', index=False)"
   ]
  }
 ],
 "metadata": {
  "kernelspec": {
   "display_name": "Python 3",
   "language": "python",
   "name": "python3"
  },
  "language_info": {
   "codemirror_mode": {
    "name": "ipython",
    "version": 3
   },
   "file_extension": ".py",
   "mimetype": "text/x-python",
   "name": "python",
   "nbconvert_exporter": "python",
   "pygments_lexer": "ipython3",
   "version": "3.11.9"
  }
 },
 "nbformat": 4,
 "nbformat_minor": 2
}

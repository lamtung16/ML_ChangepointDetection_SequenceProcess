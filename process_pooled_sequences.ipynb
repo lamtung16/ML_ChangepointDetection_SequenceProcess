{
 "cells": [
  {
   "cell_type": "code",
   "execution_count": 1,
   "metadata": {},
   "outputs": [],
   "source": [
    "import os\n",
    "import pandas as pd\n",
    "import numpy as np"
   ]
  },
  {
   "cell_type": "code",
   "execution_count": 2,
   "metadata": {},
   "outputs": [],
   "source": [
    "# Define input and output directory paths\n",
    "input_dir = \"compress_epigenomic_sequences\"\n",
    "output_dir = \"processed_chipseq_sequences\""
   ]
  },
  {
   "cell_type": "code",
   "execution_count": 3,
   "metadata": {},
   "outputs": [],
   "source": [
    "# Function to process a CSV file as per requirements\n",
    "def process_csv(file_path, output_path):\n",
    "    # Read the compressed CSV file\n",
    "    df = pd.read_csv(file_path, compression='xz')\n",
    "    \n",
    "    # Apply log(x+1) transformation to 'signal' column\n",
    "    df['log_signal'] = np.log(df['signal'] + 1)\n",
    "    \n",
    "    # Normalize 'log_signal' column to mean 0, standard deviation 1\n",
    "    df['normalized_signal'] = (df['log_signal'] - df['log_signal'].mean()) / df['log_signal'].std()\n",
    "    \n",
    "    # Keep only 'sequenceID' and 'normalized_signal'\n",
    "    processed_df = df[['sequenceID', 'normalized_signal']]\n",
    "    processed_df.columns = ['sequenceID', 'signal']\n",
    "    \n",
    "    # Save the processed DataFrame to the output path with the specified directory structure\n",
    "    os.makedirs(os.path.dirname(output_path), exist_ok=True)\n",
    "    processed_df.to_csv(output_path, index=False, compression='xz')"
   ]
  },
  {
   "cell_type": "code",
   "execution_count": 4,
   "metadata": {},
   "outputs": [],
   "source": [
    "# Traverse the directory structure and process each file\n",
    "for dataset in os.listdir(input_dir):\n",
    "    dataset_path = os.path.join(input_dir, dataset)\n",
    "    \n",
    "    if os.path.isdir(dataset_path):\n",
    "        for compress_type in os.listdir(dataset_path):\n",
    "            compress_type_path = os.path.join(dataset_path, compress_type)\n",
    "            \n",
    "            if os.path.isdir(compress_type_path):\n",
    "                for compress_size in os.listdir(compress_type_path):\n",
    "                    compress_size_path = os.path.join(compress_type_path, compress_size)\n",
    "                    \n",
    "                    if os.path.isdir(compress_size_path):\n",
    "                        file_path = os.path.join(compress_size_path, 'profiles.csv.xz')\n",
    "                        \n",
    "                        # Define the corresponding output path\n",
    "                        output_path = os.path.join(output_dir, dataset, compress_type, compress_size, 'profiles.csv.xz')\n",
    "                        \n",
    "                        # Process the file\n",
    "                        process_csv(file_path, output_path)\n"
   ]
  }
 ],
 "metadata": {
  "kernelspec": {
   "display_name": "Python 3",
   "language": "python",
   "name": "python3"
  },
  "language_info": {
   "codemirror_mode": {
    "name": "ipython",
    "version": 3
   },
   "file_extension": ".py",
   "mimetype": "text/x-python",
   "name": "python",
   "nbconvert_exporter": "python",
   "pygments_lexer": "ipython3",
   "version": "3.10.11"
  }
 },
 "nbformat": 4,
 "nbformat_minor": 2
}
